{
 "cells": [
  {
   "cell_type": "markdown",
   "metadata": {
    "deletable": true,
    "editable": true
   },
   "source": [
    "<script>\n",
    "  function code_toggle() {\n",
    "    if (code_shown){\n",
    "      $('div.input').hide('500');\n",
    "      $('#toggleButton').val('Show Code')\n",
    "    } else {\n",
    "      $('div.input').show('500');\n",
    "      $('#toggleButton').val('Hide Code')\n",
    "    }\n",
    "    code_shown = !code_shown\n",
    "  }\n",
    "  $( document ).ready(function(){\n",
    "    code_shown=false;\n",
    "    $('div.input').hide()\n",
    "  });\n",
    "</script>\n",
    "\n",
    "<form action=\"javascript:code_toggle()\"><input type=\"submit\" id=\"toggleButton\" value=\"Show Code\"></form>\n",
    "\n",
    "# Quaternions\n",
    "\n",
    "Relação Fundamental:\n",
    "\n",
    "$\\hat{i}^2 = \\hat{j}^2 = \\hat{k}^2 = \\hat{i}\\hat{j}\\hat{k} = -1$\n",
    "\n",
    "Quaternion\n",
    "\n",
    "$h = a + b \\hat{i} + c \\hat{j} + d \\hat{k}$\n",
    "\n",
    "Componente vetorial $\\bar{V} = b \\hat{i} + c \\hat{j} + d \\hat{k}$, componente escalar $P = a$."
   ]
  },
  {
   "cell_type": "code",
   "execution_count": 1,
   "metadata": {
    "collapsed": false
   },
   "outputs": [
    {
     "data": {
      "text/markdown": [
       "## Propriedades:"
      ],
      "text/plain": [
       "<IPython.core.display.Markdown object>"
      ]
     },
     "metadata": {},
     "output_type": "display_data"
    },
    {
     "data": {
      "text/markdown": [
       "Soma:"
      ],
      "text/plain": [
       "<IPython.core.display.Markdown object>"
      ]
     },
     "metadata": {},
     "output_type": "display_data"
    },
    {
     "data": {
      "text/latex": [
       "$$h_1 + h_2 = a_{1} + a_{2} + \\left(b_{1} + b_{2}\\right) \\hat{i} + \\left(c_{1} + c_{2}\\right) \\hat{j} + \\left(d_{1} + d_{2}\\right) \\hat{k}$$"
      ],
      "text/plain": [
       "<IPython.core.display.Math object>"
      ]
     },
     "metadata": {},
     "output_type": "display_data"
    },
    {
     "data": {
      "text/markdown": [
       "Produto de Quaternions (Produto Hamiltoniano):"
      ],
      "text/plain": [
       "<IPython.core.display.Markdown object>"
      ]
     },
     "metadata": {},
     "output_type": "display_data"
    },
    {
     "data": {
      "text/latex": [
       "$$h_1 h_2 = a_{1} a_{2} - b_{1} b_{2} - c_{1} c_{2} - d_{1} d_{2} + \\left(a_{1} b_{2} + a_{2} b_{1} + c_{1} d_{2} - c_{2} d_{1}\\right) \\hat{i} + \\left(a_{1} c_{2} + a_{2} c_{1} - b_{1} d_{2} + b_{2} d_{1}\\right) \\hat{j} + \\left(a_{1} d_{2} + a_{2} d_{1} + b_{1} c_{2} - b_{2} c_{1}\\right) \\hat{k}$$"
      ],
      "text/plain": [
       "<IPython.core.display.Math object>"
      ]
     },
     "metadata": {},
     "output_type": "display_data"
    }
   ],
   "source": [
    "from sympy import *\n",
    "from sympy.interactive import printing\n",
    "from IPython.display import display, Latex, Markdown, Math\n",
    "\n",
    "printing.init_printing(use_latex=True)\n",
    "\n",
    "i,j,k = symbols(\"\\hat{i} \\hat{j} \\hat{k}\",commutative=False)\n",
    "\n",
    "quaternionsRule = [(i*j,k),(j*i,-k),(j*k,i),(k*j,-i),(k*i,j),(i*k,-j),\n",
    "                   (i**2,-1),(j**2,-1),(k**2,-1)]\n",
    "\n",
    "a1,b1,c1,d1 = symbols(\"a_1 b_1 c_1 d_1\",real = True, constant = True);\n",
    "a2,b2,c2,d2 = symbols(\"a_2 b_2 c_2 d_2\",real = True, constant = True);\n",
    "\n",
    "# Calculos\n",
    "\n",
    "h1 = a1 + b1*i + c1*j + d1*k\n",
    "h2 = a2 + b2*i + c2*j + d2*k\n",
    "\n",
    "somaQ = collect(h1+h2,[i,j,k])\n",
    "produtoQ = collect((h1*h2).expand().subs(quaternionsRule),[i,j,k])\n",
    "\n",
    "# Formatação\n",
    "\n",
    "display(Markdown('## Propriedades:'))\n",
    "\n",
    "display(Markdown('Soma:'),Math('h_1 + h_2 = '+ latex(somaQ)))\n",
    "        \n",
    "display(Markdown('Produto de Quaternions (Produto Hamiltoniano):'),\\\n",
    "    Math('h_1 h_2 = '+ latex(produtoQ)))\n",
    "\n"
   ]
  },
  {
   "cell_type": "markdown",
   "metadata": {
    "deletable": true,
    "editable": true
   },
   "source": [
    "## Conversão da Notação de DH para quaternions duais\n",
    "\n",
    "A notação de DH permite representar cada junta de uma cadeia cinemática a partir de 4 parâmetros, simplificando a necessidade "
   ]
  },
  {
   "cell_type": "code",
   "execution_count": 2,
   "metadata": {
    "collapsed": false,
    "deletable": true,
    "editable": true
   },
   "outputs": [
    {
     "data": {
      "text/markdown": [
       "Rotação em torno de $\\theta$ será"
      ],
      "text/plain": [
       "<IPython.core.display.Markdown object>"
      ]
     },
     "metadata": {},
     "output_type": "display_data"
    },
    {
     "data": {
      "text/latex": [
       "$$r_{\\theta} = \\sin{\\left (\\frac{\\theta}{2} \\right )} \\hat{k} + \\cos{\\left (\\frac{\\theta}{2} \\right )}$$"
      ],
      "text/plain": [
       "<IPython.core.display.Math object>"
      ]
     },
     "metadata": {},
     "output_type": "display_data"
    },
    {
     "data": {
      "text/markdown": [
       "Rotação em torno de $\\alpha$ será"
      ],
      "text/plain": [
       "<IPython.core.display.Markdown object>"
      ]
     },
     "metadata": {},
     "output_type": "display_data"
    },
    {
     "data": {
      "text/latex": [
       "$$r_{\\alpha} = \\sin{\\left (\\frac{\\alpha}{2} \\right )} \\hat{i} + \\cos{\\left (\\frac{\\alpha}{2} \\right )}$$"
      ],
      "text/plain": [
       "<IPython.core.display.Math object>"
      ]
     },
     "metadata": {},
     "output_type": "display_data"
    },
    {
     "data": {
      "text/markdown": [
       "Combinando ambas rotações temos"
      ],
      "text/plain": [
       "<IPython.core.display.Markdown object>"
      ]
     },
     "metadata": {},
     "output_type": "display_data"
    },
    {
     "data": {
      "text/latex": [
       "$$r = r_{\\theta} r_{\\alpha} = \\sin{\\left (\\frac{\\alpha}{2} \\right )} \\sin{\\left (\\frac{\\theta}{2} \\right )} \\hat{j} + \\sin{\\left (\\frac{\\alpha}{2} \\right )} \\cos{\\left (\\frac{\\theta}{2} \\right )} \\hat{i} + \\sin{\\left (\\frac{\\theta}{2} \\right )} \\cos{\\left (\\frac{\\alpha}{2} \\right )} \\hat{k} + \\cos{\\left (\\frac{\\alpha}{2} \\right )} \\cos{\\left (\\frac{\\theta}{2} \\right )}$$"
      ],
      "text/plain": [
       "<IPython.core.display.Math object>"
      ]
     },
     "metadata": {},
     "output_type": "display_data"
    },
    {
     "data": {
      "text/markdown": [
       "Combinando os dois deslocamento numa unica operação de translação"
      ],
      "text/plain": [
       "<IPython.core.display.Markdown object>"
      ]
     },
     "metadata": {},
     "output_type": "display_data"
    },
    {
     "data": {
      "text/latex": [
       "$$t = d \\hat{k} + l \\hat{i}$$"
      ],
      "text/plain": [
       "<IPython.core.display.Math object>"
      ]
     },
     "metadata": {},
     "output_type": "display_data"
    },
    {
     "data": {
      "text/markdown": [
       "Desta forma podemos definir a transformação como sendo $h_{dh} = r + e(rt)$ e portanto temos:"
      ],
      "text/plain": [
       "<IPython.core.display.Markdown object>"
      ]
     },
     "metadata": {},
     "output_type": "display_data"
    },
    {
     "data": {
      "text/latex": [
       "$$h_{dh} = - d \\sin{\\left (\\frac{\\theta}{2} \\right )} \\cos{\\left (\\frac{\\alpha}{2} \\right )} - l \\sin{\\left (\\frac{\\alpha}{2} \\right )} \\cos{\\left (\\frac{\\theta}{2} \\right )} + \\left(- d \\sin{\\left (\\frac{\\alpha}{2} \\right )} \\sin{\\left (\\frac{\\theta}{2} \\right )} + l \\cos{\\left (\\frac{\\alpha}{2} \\right )} \\cos{\\left (\\frac{\\theta}{2} \\right )} + \\sin{\\left (\\frac{\\alpha}{2} \\right )} \\cos{\\left (\\frac{\\theta}{2} \\right )}\\right) \\hat{i} + \\left(d \\sin{\\left (\\frac{\\alpha}{2} \\right )} \\cos{\\left (\\frac{\\theta}{2} \\right )} - l \\sin{\\left (\\frac{\\theta}{2} \\right )} \\cos{\\left (\\frac{\\alpha}{2} \\right )} + \\sin{\\left (\\frac{\\alpha}{2} \\right )} \\sin{\\left (\\frac{\\theta}{2} \\right )}\\right) \\hat{j} + \\left(d \\cos{\\left (\\frac{\\alpha}{2} \\right )} \\cos{\\left (\\frac{\\theta}{2} \\right )} + l \\sin{\\left (\\frac{\\alpha}{2} \\right )} \\sin{\\left (\\frac{\\theta}{2} \\right )} + \\sin{\\left (\\frac{\\theta}{2} \\right )} \\cos{\\left (\\frac{\\alpha}{2} \\right )}\\right) \\hat{k} + \\cos{\\left (\\frac{\\alpha}{2} \\right )} \\cos{\\left (\\frac{\\theta}{2} \\right )}$$"
      ],
      "text/plain": [
       "<IPython.core.display.Math object>"
      ]
     },
     "metadata": {},
     "output_type": "display_data"
    }
   ],
   "source": [
    "theta, alpha,l,d = symbols(\"theta alpha l d\",real = True, constant = True)\n",
    "\n",
    "ro = cos(theta/2) + sin(theta/2)*k\n",
    "ra = cos(alpha/2) + sin(alpha/2)*i\n",
    "\n",
    "r = ro*ra\n",
    "r = r.expand().subs(quaternionsRule)\n",
    "\n",
    "t = l*i + d*k\n",
    "dh = (r + (t*r).expand().subs(quaternionsRule))\n",
    "dh = collect(dh,[i,j,k])\n",
    "\n",
    "# Formatação\n",
    "\n",
    "display(Markdown('Rotação em torno de $\\\\theta$ será'),\\\n",
    "    Math('r_{\\\\theta} = '+latex(ro)))\n",
    "\n",
    "display(Markdown('Rotação em torno de $\\\\alpha$ será'),\\\n",
    "    Math('r_{\\\\alpha} = '+latex(ra)))\n",
    "\n",
    "display(Markdown('Combinando ambas rotações temos'),\\\n",
    "    Math('r = r_{\\\\theta} r_{\\\\alpha} = '+latex(r)))\n",
    "\n",
    "display(Markdown('Combinando os dois deslocamento numa unica operação de translação'))\n",
    "display(Math('t = '+latex(t)))\n",
    "\n",
    "display(Markdown('Desta forma podemos definir a transformação como sendo $h_{dh} = r + e(rt)$ e portanto temos:'))\n",
    "display(Math('h_{dh} = ' +latex(dh)))"
   ]
  },
  {
   "cell_type": "code",
   "execution_count": 3,
   "metadata": {
    "collapsed": false,
    "deletable": true,
    "editable": true
   },
   "outputs": [
    {
     "name": "stdout",
     "output_type": "stream",
     "text": [
      "1.0 + 2.0i + 3.0j + 4.0k\n",
      "1.0 + 2.0i\n"
     ]
    }
   ],
   "source": [
    "from DQ import *\n",
    "\n",
    "print(DQ([1,2,3,4,0,0,0,0]))\n",
    "print(DQ([1,2,0,0,0,0,0,0]))"
   ]
  }
 ],
 "metadata": {
  "kernelspec": {
   "display_name": "Python 2",
   "language": "python",
   "name": "python2"
  },
  "language_info": {
   "codemirror_mode": {
    "name": "ipython",
    "version": 2
   },
   "file_extension": ".py",
   "mimetype": "text/x-python",
   "name": "python",
   "nbconvert_exporter": "python",
   "pygments_lexer": "ipython2",
   "version": "2.7.6"
  }
 },
 "nbformat": 4,
 "nbformat_minor": 2
}
