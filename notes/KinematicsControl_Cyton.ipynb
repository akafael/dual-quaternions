{
 "cells": [
  {
   "cell_type": "markdown",
   "metadata": {},
   "source": [
    "## DQ Representation for Cyton Arm from DH"
   ]
  },
  {
   "cell_type": "code",
   "execution_count": 1,
   "metadata": {
    "collapsed": true
   },
   "outputs": [],
   "source": [
    "from DQ import *\n",
    "from DQ_kinematics import *\n",
    "import numpy as np\n",
    "import scipy.linalg as LA\n",
    "from math import pi\n",
    "\n",
    "def DQ_CYTON():\n",
    "    '''\n",
    "    DQ Representation for COMAU Arm\n",
    "    '''\n",
    "    \n",
    "    cyton_DH_theta=  np.array([0, 0, 0, 0, pi, pi/2, 0])\n",
    "    cyton_DH_d =     np.array([0.0379, -0.0046, 0.145, -0.011, 0.175, 0.0074, 0.0])\n",
    "    cyton_DH_a =     np.array([0.0, 0.0, 0.0, 0.0, 0.0, 0.0, 0.0677])\n",
    "    cyton_DH_alpha = np.array([0, pi/2, -pi/2, pi/2, -pi/2, pi/2, pi/2])\n",
    "    cyton_dummy =    np.array([0,0,0,0,0,0,0])\n",
    "\n",
    "    cyton_DH_matrix = np.array([cyton_DH_theta,cyton_DH_d,cyton_DH_a,cyton_DH_alpha,cyton_dummy])\n",
    "\n",
    "    cyton = DQ_kinematics(cyton_DH_matrix, 'modified')\n",
    "\n",
    "    return cyton"
   ]
  },
  {
   "cell_type": "markdown",
   "metadata": {},
   "source": [
    "## Open Loop Control Simulation"
   ]
  },
  {
   "cell_type": "code",
   "execution_count": 2,
   "metadata": {
    "collapsed": false
   },
   "outputs": [
    {
     "name": "stdout",
     "output_type": "stream",
     "text": [
      "0.782529172168\n",
      "1.3119865458\n",
      "1.08703292083\n",
      "0.675011182588\n",
      "0.38063384537\n",
      "0.201940598604\n",
      "0.107061773686\n",
      "0.0574885111265\n",
      "0.031324435465\n",
      "0.0174591895213\n",
      "0.0101612863653\n",
      "0.00643709787186\n",
      "0.00474493952727\n",
      "0.00436589985638\n",
      "0.00521978010093\n",
      "0.00782097500285\n",
      "0.00868096332387\n",
      "0.00481146296309\n",
      "0.00246832919243\n",
      "0.00124439555779\n",
      "0.000623597051812\n"
     ]
    }
   ],
   "source": [
    "robotarm_kine = DQ_CYTON();\n",
    "\n",
    "# Basic definitions for the simulation\n",
    "theta  = np.array([0,0,-pi/2,0,pi/2,0,0])\n",
    "thetad = np.array([pi/2,0,-pi/2,0,pi/2,0,0])\n",
    "\n",
    "# Desired end-effector pose\n",
    "xd = robotarm_kine.fkm(thetad);\n",
    "\n",
    "error = 1;\n",
    "epsilon = 0.001;\n",
    "K = 0.5;\n",
    "\n",
    "while LA.norm(error) > epsilon:\n",
    "    x = robotarm_kine.fkm(theta);\n",
    "    J = robotarm_kine.jacobian(theta);\n",
    "    error = vec8(xd-x);\n",
    "    theta = theta + np.dot(np.dot(LA.pinv(J),K),error);\n",
    "    print LA.norm(error)"
   ]
  },
  {
   "cell_type": "markdown",
   "metadata": {},
   "source": [
    "## Open Loop Control Using ROS"
   ]
  },
  {
   "cell_type": "code",
   "execution_count": 3,
   "metadata": {
    "collapsed": false
   },
   "outputs": [
    {
     "name": "stdout",
     "output_type": "stream",
     "text": [
      "[INFO] [WallTime: 1502833880.133564] 0.782529172168\n",
      "[INFO] [WallTime: 1502833880.233439] 1.3119865458\n",
      "[INFO] [WallTime: 1502833880.333682] 1.08703292083\n",
      "[INFO] [WallTime: 1502833880.433269] 0.675011182588\n",
      "[INFO] [WallTime: 1502833880.533491] 0.38063384537\n",
      "[INFO] [WallTime: 1502833880.634394] 0.201940598604\n",
      "[INFO] [WallTime: 1502833880.733675] 0.107061773686\n",
      "[INFO] [WallTime: 1502833880.835532] 0.0574885111265\n",
      "[INFO] [WallTime: 1502833880.934048] 0.031324435465\n",
      "[INFO] [WallTime: 1502833881.033740] 0.0174591895213\n",
      "[INFO] [WallTime: 1502833881.134059] 0.0101612863653\n",
      "[INFO] [WallTime: 1502833881.233883] 0.00643709787186\n",
      "[INFO] [WallTime: 1502833881.333772] 0.00474493952727\n",
      "[INFO] [WallTime: 1502833881.433344] 0.00436589985638\n",
      "[INFO] [WallTime: 1502833881.533679] 0.00521978010093\n",
      "[INFO] [WallTime: 1502833881.633497] 0.00782097500285\n",
      "[INFO] [WallTime: 1502833881.733486] 0.00868096332387\n",
      "[INFO] [WallTime: 1502833881.833478] 0.00481146296309\n",
      "[INFO] [WallTime: 1502833881.933594] 0.00246832919243\n",
      "[INFO] [WallTime: 1502833882.033536] 0.00124439555779\n",
      "[INFO] [WallTime: 1502833882.133595] 0.000623597051812\n"
     ]
    }
   ],
   "source": [
    "import rospy\n",
    "from sensor_msgs.msg import JointState\n",
    "from std_msgs.msg import Float32MultiArray\n",
    "import numpy as np\n",
    "\n",
    "robotarm_kine = DQ_CYTON();\n",
    "\n",
    "# Basic definitions for the execution\n",
    "theta  = np.array([0,0,-pi/2,0,pi/2,0,0])\n",
    "thetad = np.array([pi/2,0,-pi/2,0,pi/2,0,0])\n",
    "\n",
    "# Desired end-effector pose\n",
    "xd = robotarm_kine.fkm(thetad);\n",
    "\n",
    "error = 1;\n",
    "epsilon = 0.001;\n",
    "K = 0.5;\n",
    "\n",
    "rospy.init_node('cyton_feedback',anonymous=False)\n",
    "pub = rospy.Publisher('/Cyton/jointCmd', Float32MultiArray, queue_size=10)\n",
    "rate = rospy.Rate(10) # 10hz\n",
    "\n",
    "while LA.norm(error) > epsilon:\n",
    "    x = robotarm_kine.fkm(theta);\n",
    "    J = robotarm_kine.jacobian(theta);\n",
    "    error = vec8(xd-x);\n",
    "    theta = theta + np.dot(np.dot(LA.pinv(J),K),error);\n",
    "    \n",
    "    cmd_msg = Float32MultiArray()\n",
    "    cmd_msg.data = theta\n",
    "    pub.publish(cmd_msg)\n",
    "    \n",
    "    rospy.loginfo(LA.norm(error))\n",
    "    rate.sleep()\n"
   ]
  }
 ],
 "metadata": {
  "kernelspec": {
   "display_name": "Python 2",
   "language": "python",
   "name": "python2"
  },
  "language_info": {
   "codemirror_mode": {
    "name": "ipython",
    "version": 2
   },
   "file_extension": ".py",
   "mimetype": "text/x-python",
   "name": "python",
   "nbconvert_exporter": "python",
   "pygments_lexer": "ipython2",
   "version": "2.7.6"
  }
 },
 "nbformat": 4,
 "nbformat_minor": 2
}
